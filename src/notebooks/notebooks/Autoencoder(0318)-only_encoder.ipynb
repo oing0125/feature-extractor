{
 "cells": [
  {
   "cell_type": "code",
   "execution_count": 1,
   "metadata": {},
   "outputs": [
    {
     "name": "stderr",
     "output_type": "stream",
     "text": [
      "Using TensorFlow backend.\n"
     ]
    }
   ],
   "source": [
    "from keras.layers import Input, Dense\n",
    "from keras.models import Model\n",
    "from keras import regularizers, optimizers\n",
    "from sklearn.preprocessing import MinMaxScaler\n",
    "from sklearn.model_selection import train_test_split, cross_validate\n",
    "from sklearn.metrics import confusion_matrix\n",
    "import os\n",
    "import statistics\n",
    "import pickle\n",
    "import pandas as pd\n",
    "import numpy as np\n",
    "import seaborn as sns\n",
    "import matplotlib.pyplot as plt\n",
    "pd.set_option(\"display.max_columns\", None)"
   ]
  },
  {
   "cell_type": "code",
   "execution_count": 2,
   "metadata": {},
   "outputs": [],
   "source": [
    "benign_path = '/home/sdsra/Downloads/CTU-Dataset/benign'\n",
    "benign_datas = pd.DataFrame()\n",
    "sub_dir_list = os.listdir(benign_path)\n",
    "for dir in sub_dir_list:\n",
    "    tmp_data = pd.read_pickle(benign_path + '/' + dir + '/datas-by-origin-tool.pkl')\n",
    "    benign_datas = pd.concat([benign_datas, tmp_data], ignore_index=True)"
   ]
  },
  {
   "cell_type": "code",
   "execution_count": 3,
   "metadata": {},
   "outputs": [],
   "source": [
    "malware_path = '/home/sdsra/Downloads/CTU-Dataset/malware-2' \n",
    "malware_datas = pd.DataFrame()\n",
    "for dir in os.listdir(malware_path) :\n",
    "    pkl_path = malware_path +'/'+dir+'/datas-by-origin-tool.pkl'\n",
    "    if os.path.exists(pkl_path):\n",
    "        tmp_data = pd.read_pickle(pkl_path)\n",
    "        malware_datas = pd.concat([malware_datas, tmp_data], ignore_index=True)"
   ]
  },
  {
   "cell_type": "code",
   "execution_count": 4,
   "metadata": {
    "scrolled": true
   },
   "outputs": [
    {
     "data": {
      "text/plain": [
       "benign    12971\n",
       "Name: label, dtype: int64"
      ]
     },
     "execution_count": 4,
     "metadata": {},
     "output_type": "execute_result"
    }
   ],
   "source": [
    "benign_datas['label'].value_counts()"
   ]
  },
  {
   "cell_type": "code",
   "execution_count": 5,
   "metadata": {
    "scrolled": true
   },
   "outputs": [
    {
     "name": "stdout",
     "output_type": "stream",
     "text": [
      "<class 'pandas.core.frame.DataFrame'>\n",
      "RangeIndex: 12971 entries, 0 to 12970\n",
      "Data columns (total 33 columns):\n",
      "amount_diff_cert                12971 non-null int64\n",
      "avg_of_cert_length              12971 non-null float64\n",
      "avg_of_duration                 12971 non-null float64\n",
      "avg_of_public_key               12971 non-null float64\n",
      "avg_periodicity                 12971 non-null float64\n",
      "dst_ip                          12971 non-null object\n",
      "dst_port                        12971 non-null object\n",
      "get_SNI_equal_Dst_IP            12971 non-null int64\n",
      "inbound_pckts                   12971 non-null int64\n",
      "is_CNs_in_SNA_dns               12971 non-null int64\n",
      "is_SNIs_in_SNA_dns              12971 non-null int64\n",
      "is_valid_cert                   12971 non-null int64\n",
      "number_of_cert_path             12971 non-null float64\n",
      "number_of_domains               12971 non-null float64\n",
      "number_of_flows                 12971 non-null int64\n",
      "outbound_pckts                  12971 non-null int64\n",
      "percent_of_established_stats    12971 non-null float64\n",
      "percent_of_stdev_duration       12971 non-null float64\n",
      "ratio_of_SNI_ssl                12971 non-null float64\n",
      "ratio_of_cert                   12971 non-null float64\n",
      "ratio_of_self_signed            12971 non-null float64\n",
      "ratio_of_size                   12971 non-null float64\n",
      "ratio_of_ssl                    12971 non-null float64\n",
      "ratio_of_tls_version            12971 non-null float64\n",
      "ratio_of_x509_ssl               12971 non-null float64\n",
      "src_ip                          12971 non-null object\n",
      "src_port                        12971 non-null object\n",
      "stdev_duration                  12971 non-null float64\n",
      "stdev_of_cert_length            12971 non-null float64\n",
      "stdev_periodicity               12971 non-null float64\n",
      "total_size_of_flows_orig        12971 non-null int64\n",
      "total_size_of_flows_resp        12971 non-null int64\n",
      "label                           12971 non-null object\n",
      "dtypes: float64(18), int64(10), object(5)\n",
      "memory usage: 3.3+ MB\n"
     ]
    }
   ],
   "source": [
    "benign_datas.info()"
   ]
  },
  {
   "cell_type": "code",
   "execution_count": 6,
   "metadata": {},
   "outputs": [
    {
     "data": {
      "text/plain": [
       "botnet    71409\n",
       "benign        3\n",
       "Name: label, dtype: int64"
      ]
     },
     "execution_count": 6,
     "metadata": {},
     "output_type": "execute_result"
    }
   ],
   "source": [
    "malware_datas['label'].value_counts()"
   ]
  },
  {
   "cell_type": "code",
   "execution_count": 7,
   "metadata": {},
   "outputs": [],
   "source": [
    "malware_datas = malware_datas[malware_datas['label'] == 'botnet']"
   ]
  },
  {
   "cell_type": "code",
   "execution_count": 8,
   "metadata": {},
   "outputs": [
    {
     "data": {
      "text/plain": [
       "71409"
      ]
     },
     "execution_count": 8,
     "metadata": {},
     "output_type": "execute_result"
    }
   ],
   "source": [
    "len(malware_datas)"
   ]
  },
  {
   "cell_type": "code",
   "execution_count": 9,
   "metadata": {},
   "outputs": [],
   "source": [
    "numeric_columns = list(filter(lambda x: x not in ['src_ip','src_port','dst_ip','dst_port','proto', 'label'], benign_datas.columns))"
   ]
  },
  {
   "cell_type": "markdown",
   "metadata": {},
   "source": [
    "# Data preprocessing "
   ]
  },
  {
   "cell_type": "code",
   "execution_count": 10,
   "metadata": {},
   "outputs": [],
   "source": [
    "X_train, X_test = train_test_split(benign_datas, test_size=0.2, random_state = 101)"
   ]
  },
  {
   "cell_type": "code",
   "execution_count": 11,
   "metadata": {},
   "outputs": [
    {
     "name": "stderr",
     "output_type": "stream",
     "text": [
      "/home/sdsra/anaconda3/envs/gep-gpu/lib/python3.6/site-packages/sklearn/preprocessing/data.py:323: DataConversionWarning: Data with input dtype int64, float64 were all converted to float64 by MinMaxScaler.\n",
      "  return self.partial_fit(X, y)\n"
     ]
    }
   ],
   "source": [
    "scaler = MinMaxScaler()\n",
    "X_train_scaled = scaler.fit_transform(X_train[numeric_columns])\n",
    "X_test_scaled  = scaler.transform(X_test[numeric_columns])"
   ]
  },
  {
   "cell_type": "code",
   "execution_count": 12,
   "metadata": {
    "scrolled": true
   },
   "outputs": [
    {
     "name": "stdout",
     "output_type": "stream",
     "text": [
      "_________________________________________________________________\n",
      "Layer (type)                 Output Shape              Param #   \n",
      "=================================================================\n",
      "input_1 (InputLayer)         (None, 28)                0         \n",
      "_________________________________________________________________\n",
      "dense_1 (Dense)              (None, 23)                667       \n",
      "_________________________________________________________________\n",
      "dense_2 (Dense)              (None, 18)                432       \n",
      "_________________________________________________________________\n",
      "dense_3 (Dense)              (None, 15)                285       \n",
      "_________________________________________________________________\n",
      "dense_4 (Dense)              (None, 10)                160       \n",
      "_________________________________________________________________\n",
      "dense_5 (Dense)              (None, 6)                 66        \n",
      "_________________________________________________________________\n",
      "dense_6 (Dense)              (None, 10)                70        \n",
      "_________________________________________________________________\n",
      "dense_7 (Dense)              (None, 15)                165       \n",
      "_________________________________________________________________\n",
      "dense_8 (Dense)              (None, 18)                288       \n",
      "_________________________________________________________________\n",
      "dense_9 (Dense)              (None, 23)                437       \n",
      "_________________________________________________________________\n",
      "dense_10 (Dense)             (None, 28)                672       \n",
      "=================================================================\n",
      "Total params: 3,242\n",
      "Trainable params: 3,242\n",
      "Non-trainable params: 0\n",
      "_________________________________________________________________\n"
     ]
    }
   ],
   "source": [
    "# autoencoder 1(6 hidden, tanh)\n",
    "# input_layer = Input(shape=(28,))\n",
    "# encoder = Dense(20, activation='tanh', activity_regularizer=regularizers.l1(10e-5))(input_layer)\n",
    "# encoder = Dense(14, activation='tanh')(encoder)\n",
    "# encoder = Dense(8, activation='tanh')(encoder)\n",
    "# decoder = Dense(14, activation='tanh')(encoder)\n",
    "# decoder = Dense(20, activation='tanh')(decoder)\n",
    "# decoder = Dense(28, activation='tanh')(decoder)\n",
    "\n",
    "# autoencoder 2(4 hidden, relu)\n",
    "# input_layer = Input(shape=(28,))\n",
    "# encoder = Dense(20, activation='relu', activity_regularizer=regularizers.l1(10e-5))(input_layer)\n",
    "# encoder = Dense(14, activation='relu')(encoder)\n",
    "# decoder = Dense(20, activation='relu')(encoder)\n",
    "# decoder = Dense(28, activation='sigmoid')(decoder)\n",
    "\n",
    "\n",
    "\n",
    "# autoencoder 3(10 hidden, relu)\n",
    "input_layer = Input(shape=(28,))\n",
    "encoder = Dense(23, activation='relu')(input_layer)\n",
    "encoder = Dense(18, activation='relu')(encoder)\n",
    "encoder = Dense(15, activation='relu')(encoder)\n",
    "encoder = Dense(10, activation='relu')(encoder)\n",
    "encoder = Dense(6, activation='relu')(encoder)\n",
    "decoder = Dense(10, activation='relu')(encoder)\n",
    "decoder = Dense(15, activation='relu')(decoder)\n",
    "decoder = Dense(18, activation='relu')(decoder)\n",
    "decoder = Dense(23, activation='relu')(decoder)\n",
    "decoder = Dense(28, activation='sigmoid')(decoder)\n",
    "\n",
    "\n",
    "\n",
    "\n",
    "\n",
    "\n",
    "\n",
    "autoencoder = Model(inputs=input_layer, outputs=decoder)\n",
    "autoencoder.summary()"
   ]
  },
  {
   "cell_type": "code",
   "execution_count": 13,
   "metadata": {},
   "outputs": [
    {
     "name": "stdout",
     "output_type": "stream",
     "text": [
      "Train on 9338 samples, validate on 1038 samples\n",
      "Epoch 1/100\n",
      "9338/9338 [==============================] - 2s 248us/step - loss: 0.0371 - val_loss: 0.0069\n",
      "Epoch 2/100\n",
      "9338/9338 [==============================] - 1s 129us/step - loss: 0.0056 - val_loss: 0.0038\n",
      "Epoch 3/100\n",
      "9338/9338 [==============================] - 2s 163us/step - loss: 0.0037 - val_loss: 0.0030\n",
      "Epoch 4/100\n",
      "9338/9338 [==============================] - 1s 151us/step - loss: 0.0032 - val_loss: 0.0027\n",
      "Epoch 5/100\n",
      "9338/9338 [==============================] - 1s 155us/step - loss: 0.0030 - val_loss: 0.0027\n",
      "Epoch 6/100\n",
      "9338/9338 [==============================] - 2s 165us/step - loss: 0.0029 - val_loss: 0.0026\n",
      "Epoch 7/100\n",
      "9338/9338 [==============================] - 2s 214us/step - loss: 0.0029 - val_loss: 0.0025\n",
      "Epoch 8/100\n",
      "9338/9338 [==============================] - 1s 117us/step - loss: 0.0028 - val_loss: 0.0024\n",
      "Epoch 9/100\n",
      "9338/9338 [==============================] - 1s 155us/step - loss: 0.0028 - val_loss: 0.0024\n",
      "Epoch 10/100\n",
      "9338/9338 [==============================] - 2s 170us/step - loss: 0.0027 - val_loss: 0.0023\n",
      "Epoch 11/100\n",
      "9338/9338 [==============================] - 2s 167us/step - loss: 0.0027 - val_loss: 0.0024\n",
      "Epoch 12/100\n",
      "9338/9338 [==============================] - 1s 148us/step - loss: 0.0026 - val_loss: 0.0022\n",
      "Epoch 13/100\n",
      "9338/9338 [==============================] - 1s 117us/step - loss: 0.0026 - val_loss: 0.0022\n",
      "Epoch 14/100\n",
      "9338/9338 [==============================] - 1s 151us/step - loss: 0.0025 - val_loss: 0.0022\n",
      "Epoch 15/100\n",
      "9338/9338 [==============================] - 2s 169us/step - loss: 0.0025 - val_loss: 0.0021\n",
      "Epoch 16/100\n",
      "9338/9338 [==============================] - 1s 150us/step - loss: 0.0024 - val_loss: 0.0020\n",
      "Epoch 17/100\n",
      "9338/9338 [==============================] - 2s 162us/step - loss: 0.0024 - val_loss: 0.0021\n",
      "Epoch 18/100\n",
      "9338/9338 [==============================] - 2s 192us/step - loss: 0.0024 - val_loss: 0.0020\n",
      "Epoch 19/100\n",
      "9338/9338 [==============================] - 1s 153us/step - loss: 0.0024 - val_loss: 0.0020\n",
      "Epoch 20/100\n",
      "9338/9338 [==============================] - 1s 156us/step - loss: 0.0023 - val_loss: 0.0020\n",
      "Epoch 21/100\n",
      "9338/9338 [==============================] - 1s 141us/step - loss: 0.0023 - val_loss: 0.0020\n",
      "Epoch 22/100\n",
      "9338/9338 [==============================] - 2s 174us/step - loss: 0.0023 - val_loss: 0.0020\n",
      "Epoch 23/100\n",
      "9338/9338 [==============================] - 1s 154us/step - loss: 0.0023 - val_loss: 0.0019\n",
      "Epoch 24/100\n",
      "9338/9338 [==============================] - 2s 182us/step - loss: 0.0023 - val_loss: 0.0019\n",
      "Epoch 25/100\n",
      "9338/9338 [==============================] - 1s 157us/step - loss: 0.0023 - val_loss: 0.0020\n",
      "Epoch 26/100\n",
      "9338/9338 [==============================] - 1s 123us/step - loss: 0.0023 - val_loss: 0.0019\n",
      "Epoch 27/100\n",
      "9338/9338 [==============================] - 1s 150us/step - loss: 0.0023 - val_loss: 0.0019\n",
      "Epoch 28/100\n",
      "9338/9338 [==============================] - 1s 97us/step - loss: 0.0022 - val_loss: 0.0019\n",
      "Epoch 29/100\n",
      "9338/9338 [==============================] - 1s 104us/step - loss: 0.0022 - val_loss: 0.0018\n",
      "Epoch 30/100\n",
      "9338/9338 [==============================] - 1s 143us/step - loss: 0.0021 - val_loss: 0.0018\n",
      "Epoch 31/100\n",
      "9338/9338 [==============================] - 1s 144us/step - loss: 0.0021 - val_loss: 0.0017\n",
      "Epoch 32/100\n",
      "9338/9338 [==============================] - 1s 147us/step - loss: 0.0020 - val_loss: 0.0017\n",
      "Epoch 33/100\n",
      "9338/9338 [==============================] - 1s 124us/step - loss: 0.0020 - val_loss: 0.0016\n",
      "Epoch 34/100\n",
      "9338/9338 [==============================] - 1s 155us/step - loss: 0.0019 - val_loss: 0.0016\n",
      "Epoch 35/100\n",
      "9338/9338 [==============================] - 1s 135us/step - loss: 0.0019 - val_loss: 0.0016\n",
      "Epoch 36/100\n",
      "9338/9338 [==============================] - 1s 130us/step - loss: 0.0019 - val_loss: 0.0015\n",
      "Epoch 37/100\n",
      "9338/9338 [==============================] - 1s 128us/step - loss: 0.0018 - val_loss: 0.0015\n",
      "Epoch 38/100\n",
      "9338/9338 [==============================] - 2s 162us/step - loss: 0.0018 - val_loss: 0.0015\n",
      "Epoch 39/100\n",
      "9338/9338 [==============================] - 1s 147us/step - loss: 0.0018 - val_loss: 0.0015\n",
      "Epoch 40/100\n",
      "9338/9338 [==============================] - 1s 140us/step - loss: 0.0018 - val_loss: 0.0015\n",
      "Epoch 41/100\n",
      "9338/9338 [==============================] - 1s 145us/step - loss: 0.0018 - val_loss: 0.0015\n",
      "Epoch 42/100\n",
      "9338/9338 [==============================] - 1s 150us/step - loss: 0.0018 - val_loss: 0.0015\n",
      "Epoch 43/100\n",
      "9338/9338 [==============================] - 1s 134us/step - loss: 0.0018 - val_loss: 0.0015\n",
      "Epoch 44/100\n",
      "9338/9338 [==============================] - 1s 133us/step - loss: 0.0018 - val_loss: 0.0015\n",
      "Epoch 45/100\n",
      "9338/9338 [==============================] - 1s 156us/step - loss: 0.0015 - val_loss: 0.0012\n",
      "Epoch 46/100\n",
      "9338/9338 [==============================] - 1s 146us/step - loss: 0.0013 - val_loss: 0.0011\n",
      "Epoch 47/100\n",
      "9338/9338 [==============================] - 2s 162us/step - loss: 0.0013 - val_loss: 0.0011\n",
      "Epoch 48/100\n",
      "9338/9338 [==============================] - 2s 166us/step - loss: 0.0013 - val_loss: 0.0012\n",
      "Epoch 49/100\n",
      "9338/9338 [==============================] - 1s 156us/step - loss: 0.0013 - val_loss: 0.0011\n",
      "Epoch 50/100\n",
      "9338/9338 [==============================] - 1s 108us/step - loss: 0.0012 - val_loss: 0.0011\n",
      "Epoch 51/100\n",
      "9338/9338 [==============================] - 1s 114us/step - loss: 0.0012 - val_loss: 0.0011\n",
      "Epoch 52/100\n",
      "9338/9338 [==============================] - 1s 88us/step - loss: 0.0012 - val_loss: 0.0011\n",
      "Epoch 53/100\n",
      "9338/9338 [==============================] - 1s 145us/step - loss: 0.0012 - val_loss: 0.0011\n",
      "Epoch 54/100\n",
      "9338/9338 [==============================] - 1s 132us/step - loss: 0.0012 - val_loss: 0.0011\n",
      "Epoch 55/100\n",
      "9338/9338 [==============================] - 1s 121us/step - loss: 0.0012 - val_loss: 0.0011\n",
      "Epoch 56/100\n",
      "9338/9338 [==============================] - 1s 122us/step - loss: 0.0012 - val_loss: 0.0011\n",
      "Epoch 57/100\n",
      "9338/9338 [==============================] - 1s 158us/step - loss: 0.0012 - val_loss: 0.0011\n",
      "Epoch 58/100\n",
      "9338/9338 [==============================] - 1s 144us/step - loss: 0.0011 - val_loss: 0.0011\n",
      "Epoch 59/100\n",
      "9338/9338 [==============================] - 1s 140us/step - loss: 0.0012 - val_loss: 0.0011\n",
      "Epoch 60/100\n",
      "9338/9338 [==============================] - 1s 137us/step - loss: 0.0011 - val_loss: 0.0010\n",
      "Epoch 61/100\n",
      "9338/9338 [==============================] - 1s 119us/step - loss: 0.0011 - val_loss: 0.0010\n",
      "Epoch 62/100\n",
      "9338/9338 [==============================] - 1s 145us/step - loss: 0.0011 - val_loss: 0.0010\n",
      "Epoch 63/100\n",
      "9338/9338 [==============================] - 1s 117us/step - loss: 0.0011 - val_loss: 0.0011\n",
      "Epoch 64/100\n",
      "9338/9338 [==============================] - 1s 140us/step - loss: 0.0011 - val_loss: 0.0010\n",
      "Epoch 65/100\n",
      "9338/9338 [==============================] - 1s 118us/step - loss: 0.0011 - val_loss: 0.0011\n",
      "Epoch 66/100\n",
      "9338/9338 [==============================] - 1s 157us/step - loss: 0.0011 - val_loss: 0.0010\n",
      "Epoch 67/100\n",
      "9338/9338 [==============================] - 1s 133us/step - loss: 0.0011 - val_loss: 0.0011\n",
      "Epoch 68/100\n",
      "9338/9338 [==============================] - 1s 134us/step - loss: 0.0011 - val_loss: 0.0010\n",
      "Epoch 69/100\n",
      "9338/9338 [==============================] - 1s 125us/step - loss: 0.0011 - val_loss: 0.0010\n",
      "Epoch 70/100\n",
      "9338/9338 [==============================] - 1s 111us/step - loss: 0.0011 - val_loss: 9.0382e-04\n",
      "Epoch 71/100\n",
      "9338/9338 [==============================] - 1s 106us/step - loss: 9.5161e-04 - val_loss: 8.9348e-04\n",
      "Epoch 72/100\n",
      "9338/9338 [==============================] - 1s 115us/step - loss: 8.9972e-04 - val_loss: 8.5285e-04\n",
      "Epoch 73/100\n",
      "9338/9338 [==============================] - 1s 113us/step - loss: 9.2023e-04 - val_loss: 8.7298e-04\n",
      "Epoch 74/100\n",
      "9338/9338 [==============================] - 1s 90us/step - loss: 8.8580e-04 - val_loss: 9.1749e-04\n",
      "Epoch 75/100\n",
      "9338/9338 [==============================] - 1s 124us/step - loss: 8.6220e-04 - val_loss: 8.5571e-04\n",
      "Epoch 76/100\n",
      "9338/9338 [==============================] - 1s 121us/step - loss: 9.0118e-04 - val_loss: 8.4331e-04\n",
      "Epoch 77/100\n"
     ]
    },
    {
     "name": "stdout",
     "output_type": "stream",
     "text": [
      "9338/9338 [==============================] - 2s 173us/step - loss: 8.5017e-04 - val_loss: 8.5637e-04\n",
      "Epoch 78/100\n",
      "9338/9338 [==============================] - 1s 134us/step - loss: 8.5616e-04 - val_loss: 8.4027e-04\n",
      "Epoch 79/100\n",
      "9338/9338 [==============================] - 2s 164us/step - loss: 8.5403e-04 - val_loss: 8.4370e-04\n",
      "Epoch 80/100\n",
      "9338/9338 [==============================] - 1s 115us/step - loss: 8.4525e-04 - val_loss: 8.4301e-04\n",
      "Epoch 81/100\n",
      "9338/9338 [==============================] - 1s 160us/step - loss: 8.4275e-04 - val_loss: 8.7450e-04\n",
      "Epoch 82/100\n",
      "9338/9338 [==============================] - 1s 158us/step - loss: 8.4253e-04 - val_loss: 8.4058e-04\n",
      "Epoch 83/100\n",
      "9338/9338 [==============================] - 1s 128us/step - loss: 8.3295e-04 - val_loss: 8.3947e-04\n",
      "Epoch 84/100\n",
      "9338/9338 [==============================] - 1s 131us/step - loss: 8.2429e-04 - val_loss: 8.2614e-04\n",
      "Epoch 85/100\n",
      "9338/9338 [==============================] - 1s 70us/step - loss: 8.1832e-04 - val_loss: 8.5518e-04\n",
      "Epoch 86/100\n",
      "9338/9338 [==============================] - 1s 87us/step - loss: 8.1611e-04 - val_loss: 8.0439e-04\n",
      "Epoch 87/100\n",
      "9338/9338 [==============================] - 1s 84us/step - loss: 8.0554e-04 - val_loss: 8.1514e-04\n",
      "Epoch 88/100\n",
      "9338/9338 [==============================] - 1s 120us/step - loss: 7.9874e-04 - val_loss: 8.1721e-04\n",
      "Epoch 89/100\n",
      "9338/9338 [==============================] - 1s 131us/step - loss: 7.9744e-04 - val_loss: 7.8381e-04\n",
      "Epoch 90/100\n",
      "9338/9338 [==============================] - 1s 146us/step - loss: 7.8227e-04 - val_loss: 7.7450e-04\n",
      "Epoch 91/100\n",
      "9338/9338 [==============================] - 1s 132us/step - loss: 7.6756e-04 - val_loss: 7.8988e-04\n",
      "Epoch 92/100\n",
      "9338/9338 [==============================] - 1s 115us/step - loss: 7.6586e-04 - val_loss: 7.9029e-04\n",
      "Epoch 93/100\n",
      "9338/9338 [==============================] - 1s 138us/step - loss: 7.6535e-04 - val_loss: 7.7253e-04\n",
      "Epoch 94/100\n",
      "9338/9338 [==============================] - 1s 99us/step - loss: 7.5095e-04 - val_loss: 7.8717e-04\n",
      "Epoch 95/100\n",
      "9338/9338 [==============================] - 1s 82us/step - loss: 7.3966e-04 - val_loss: 7.4331e-04\n",
      "Epoch 96/100\n",
      "9338/9338 [==============================] - 2s 166us/step - loss: 7.4559e-04 - val_loss: 7.5223e-04\n",
      "Epoch 97/100\n",
      "9338/9338 [==============================] - 1s 129us/step - loss: 7.6101e-04 - val_loss: 7.5526e-04\n",
      "Epoch 98/100\n",
      "9338/9338 [==============================] - 1s 61us/step - loss: 7.3897e-04 - val_loss: 7.3751e-04\n",
      "Epoch 99/100\n",
      "9338/9338 [==============================] - 1s 57us/step - loss: 7.3099e-04 - val_loss: 7.3736e-04\n",
      "Epoch 100/100\n",
      "9338/9338 [==============================] - 1s 132us/step - loss: 7.1851e-04 - val_loss: 7.4143e-04\n"
     ]
    }
   ],
   "source": [
    "nb_epoch = 100\n",
    "batch_size = 50\n",
    "adam = optimizers.Adam(lr=0.002, beta_1=0.9, beta_2=0.999, epsilon=None, decay=0.0, amsgrad=False)\n",
    "autoencoder.compile(optimizer=adam, loss='mse')\n",
    "\n",
    "history = autoencoder.fit(X_train_scaled, X_train_scaled,\n",
    "                        epochs=nb_epoch,\n",
    "                        batch_size=batch_size,\n",
    "                        shuffle=True,\n",
    "                        validation_split=0.1\n",
    "                        )\n",
    "autoencoder.save_weights('./ae_weights.h5')"
   ]
  },
  {
   "cell_type": "code",
   "execution_count": 54,
   "metadata": {},
   "outputs": [],
   "source": [
    "scaled_malware_datas = scaler.transform(malware_datas[numeric_columns])"
   ]
  },
  {
   "cell_type": "code",
   "execution_count": 23,
   "metadata": {
    "scrolled": true
   },
   "outputs": [
    {
     "name": "stderr",
     "output_type": "stream",
     "text": [
      "/home/sdsra/anaconda3/envs/gep-gpu/lib/python3.6/site-packages/ipykernel_launcher.py:1: UserWarning: Update your `Model` call to the Keras 2 API: `Model(inputs=Tensor(\"in..., outputs=Tensor(\"de...)`\n",
      "  \"\"\"Entry point for launching an IPython kernel.\n"
     ]
    }
   ],
   "source": [
    "new_encoder = Model(input = input_layer, output=encoder)"
   ]
  },
  {
   "cell_type": "code",
   "execution_count": 65,
   "metadata": {},
   "outputs": [],
   "source": [
    "malware_pred = new_encoder.predict(scaled_malware_datas)"
   ]
  },
  {
   "cell_type": "code",
   "execution_count": 66,
   "metadata": {},
   "outputs": [],
   "source": [
    "malware_datas['mse'] = np.mean(np.power(malware_pred, 2), axis=1)"
   ]
  },
  {
   "cell_type": "code",
   "execution_count": 67,
   "metadata": {},
   "outputs": [],
   "source": [
    "y_pred = new_encoder.predict(X_test_scaled)"
   ]
  },
  {
   "cell_type": "code",
   "execution_count": 68,
   "metadata": {
    "scrolled": true
   },
   "outputs": [
    {
     "name": "stderr",
     "output_type": "stream",
     "text": [
      "/home/sdsra/anaconda3/envs/gep-gpu/lib/python3.6/site-packages/ipykernel_launcher.py:1: SettingWithCopyWarning: \n",
      "A value is trying to be set on a copy of a slice from a DataFrame.\n",
      "Try using .loc[row_indexer,col_indexer] = value instead\n",
      "\n",
      "See the caveats in the documentation: http://pandas.pydata.org/pandas-docs/stable/indexing.html#indexing-view-versus-copy\n",
      "  \"\"\"Entry point for launching an IPython kernel.\n"
     ]
    }
   ],
   "source": [
    "X_test['mse'] = np.mean(np.power(y_pred, 2), axis=1)"
   ]
  },
  {
   "cell_type": "code",
   "execution_count": 93,
   "metadata": {},
   "outputs": [
    {
     "name": "stderr",
     "output_type": "stream",
     "text": [
      "/home/sdsra/anaconda3/envs/gep-gpu/lib/python3.6/site-packages/ipykernel_launcher.py:1: SettingWithCopyWarning: \n",
      "A value is trying to be set on a copy of a slice from a DataFrame.\n",
      "Try using .loc[row_indexer,col_indexer] = value instead\n",
      "\n",
      "See the caveats in the documentation: http://pandas.pydata.org/pandas-docs/stable/indexing.html#indexing-view-versus-copy\n",
      "  \"\"\"Entry point for launching an IPython kernel.\n",
      "/home/sdsra/anaconda3/envs/gep-gpu/lib/python3.6/site-packages/ipykernel_launcher.py:2: SettingWithCopyWarning: \n",
      "A value is trying to be set on a copy of a slice from a DataFrame.\n",
      "Try using .loc[row_indexer,col_indexer] = value instead\n",
      "\n",
      "See the caveats in the documentation: http://pandas.pydata.org/pandas-docs/stable/indexing.html#indexing-view-versus-copy\n",
      "  \n"
     ]
    }
   ],
   "source": [
    "X_test['label'] = 'no'\n",
    "X_test['is_malware'] = 0"
   ]
  },
  {
   "cell_type": "code",
   "execution_count": 94,
   "metadata": {},
   "outputs": [],
   "source": [
    "malware_datas['label'] = 'yes'\n",
    "malware_datas['is_malware'] = 1"
   ]
  },
  {
   "cell_type": "code",
   "execution_count": 95,
   "metadata": {},
   "outputs": [],
   "source": [
    "compare_data = pd.concat([malware_datas, X_test], ignore_index=True)"
   ]
  },
  {
   "cell_type": "code",
   "execution_count": 97,
   "metadata": {
    "scrolled": true
   },
   "outputs": [
    {
     "data": {
      "text/plain": [
       "yes    71409\n",
       "no      2595\n",
       "Name: label, dtype: int64"
      ]
     },
     "execution_count": 97,
     "metadata": {},
     "output_type": "execute_result"
    }
   ],
   "source": [
    "compare_data['label'].value_counts()"
   ]
  },
  {
   "cell_type": "code",
   "execution_count": 98,
   "metadata": {},
   "outputs": [
    {
     "data": {
      "text/plain": [
       "<seaborn.axisgrid.FacetGrid at 0x7f52eaa76240>"
      ]
     },
     "execution_count": 98,
     "metadata": {},
     "output_type": "execute_result"
    },
    {
     "data": {
      "image/png": "[encoded data removed]",
      "text/plain": [
       "<Figure size 360x360 with 1 Axes>"
      ]
     },
     "metadata": {
      "needs_background": "light"
     },
     "output_type": "display_data"
    }
   ],
   "source": [
    "sns.catplot(x='label', y='mse', order=['yes','no'] ,data=compare_data, kind='bar')"
   ]
  },
  {
   "cell_type": "code",
   "execution_count": 90,
   "metadata": {},
   "outputs": [],
   "source": [
    "threshold = 0.002"
   ]
  },
  {
   "cell_type": "code",
   "execution_count": 91,
   "metadata": {},
   "outputs": [],
   "source": [
    "data_predict = compare_data.apply(lambda x: 1 if x['mse'] > threshold else 0, axis=1)"
   ]
  },
  {
   "cell_type": "code",
   "execution_count": 99,
   "metadata": {},
   "outputs": [],
   "source": [
    "data_real = compare_data['is_malware']"
   ]
  },
  {
   "cell_type": "code",
   "execution_count": 100,
   "metadata": {},
   "outputs": [
    {
     "data": {
      "text/plain": [
       "array([[ 2588,     7],\n",
       "       [65839,  5570]])"
      ]
     },
     "execution_count": 100,
     "metadata": {},
     "output_type": "execute_result"
    }
   ],
   "source": [
    "confusion_matrix(data_real, data_predict)"
   ]
  },
  {
   "cell_type": "code",
   "execution_count": null,
   "metadata": {},
   "outputs": [],
   "source": []
  }
 ],
 "metadata": {
  "kernelspec": {
   "display_name": "Python (gep-gpu)",
   "language": "python",
   "name": "gep-gpu"
  },
  "language_info": {
   "codemirror_mode": {
    "name": "ipython",
    "version": 3
   },
   "file_extension": ".py",
   "mimetype": "text/x-python",
   "name": "python",
   "nbconvert_exporter": "python",
   "pygments_lexer": "ipython3",
   "version": "3.6.8"
  }
 },
 "nbformat": 4,
 "nbformat_minor": 2
}
