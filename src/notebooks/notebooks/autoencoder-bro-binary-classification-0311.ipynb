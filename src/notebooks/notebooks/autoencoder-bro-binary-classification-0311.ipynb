{
 "cells": [
  {
   "cell_type": "code",
   "execution_count": 14,
   "metadata": {},
   "outputs": [],
   "source": [
    "from keras.layers import Input, Dense, Dropout\n",
    "from keras.models import Model, Sequential\n",
    "from keras.wrappers.scikit_learn import KerasClassifier\n",
    "from sklearn.preprocessing import MinMaxScaler, LabelEncoder\n",
    "from sklearn.model_selection import train_test_split, StratifiedKFold, cross_val_score\n",
    "import os\n",
    "import statistics\n",
    "import pickle\n",
    "import pandas as pd\n",
    "import numpy as np\n",
    "import seaborn as sns\n",
    "import matplotlib.pyplot as plt\n",
    "pd.set_option(\"display.max_columns\", None)"
   ]
  },
  {
   "cell_type": "markdown",
   "metadata": {},
   "source": [
    "## load data"
   ]
  },
  {
   "cell_type": "code",
   "execution_count": 2,
   "metadata": {},
   "outputs": [],
   "source": [
    "benign_datas1 = pd.read_pickle('/home/sdsra/Downloads/CTU-13-Dataset/benign/datas-final.pkl')"
   ]
  },
  {
   "cell_type": "code",
   "execution_count": 3,
   "metadata": {},
   "outputs": [],
   "source": [
    "benign_datas2 = pd.read_pickle('/home/sdsra/Downloads/Dataset/benign-capture/datas.pkl')"
   ]
  },
  {
   "cell_type": "code",
   "execution_count": 4,
   "metadata": {},
   "outputs": [
    {
     "name": "stderr",
     "output_type": "stream",
     "text": [
      "/home/sdsra/anaconda3/envs/gep-gpu/lib/python3.6/site-packages/ipykernel_launcher.py:1: FutureWarning: Sorting because non-concatenation axis is not aligned. A future version\n",
      "of pandas will change to not sort by default.\n",
      "\n",
      "To accept the future behavior, pass 'sort=False'.\n",
      "\n",
      "To retain the current behavior and silence the warning, pass 'sort=True'.\n",
      "\n",
      "  \"\"\"Entry point for launching an IPython kernel.\n"
     ]
    }
   ],
   "source": [
    "benign_datas = pd.concat([benign_datas1, benign_datas2], ignore_index=True)"
   ]
  },
  {
   "cell_type": "code",
   "execution_count": 5,
   "metadata": {},
   "outputs": [],
   "source": [
    "benign_datas['label'] = 'benign'\n",
    "trains, tests = train_test_split(benign_datas, test_size=0.2)"
   ]
  },
  {
   "cell_type": "code",
   "execution_count": 6,
   "metadata": {
    "scrolled": true
   },
   "outputs": [],
   "source": [
    "malware_path = '/home/sdsra/Downloads/CTU-13-Dataset/malware'\n",
    "malware_dir_list = os.listdir(malware_path)\n",
    "malware_datas = pd.DataFrame()\n",
    "for malware_dir in malware_dir_list:\n",
    "    trgt_malware_dir = malware_path + '/' + malware_dir\n",
    "    if os.path.isfile(trgt_malware_dir + '/datas.pkl'):\n",
    "        datas = pd.read_pickle(trgt_malware_dir + '/datas.pkl')\n",
    "        malware_datas = pd.concat([malware_datas, datas], ignore_index=True)"
   ]
  },
  {
   "cell_type": "code",
   "execution_count": 7,
   "metadata": {},
   "outputs": [
    {
     "name": "stderr",
     "output_type": "stream",
     "text": [
      "/home/sdsra/anaconda3/envs/gep-gpu/lib/python3.6/site-packages/ipykernel_launcher.py:1: FutureWarning: Sorting because non-concatenation axis is not aligned. A future version\n",
      "of pandas will change to not sort by default.\n",
      "\n",
      "To accept the future behavior, pass 'sort=False'.\n",
      "\n",
      "To retain the current behavior and silence the warning, pass 'sort=True'.\n",
      "\n",
      "  \"\"\"Entry point for launching an IPython kernel.\n"
     ]
    }
   ],
   "source": [
    "datas = pd.concat([benign_datas, malware_datas], ignore_index=True)"
   ]
  },
  {
   "cell_type": "code",
   "execution_count": 8,
   "metadata": {},
   "outputs": [],
   "source": [
    "X = datas.select_dtypes(include=[np.number])\n",
    "Y = datas['label']"
   ]
  },
  {
   "cell_type": "code",
   "execution_count": 9,
   "metadata": {},
   "outputs": [],
   "source": [
    "labelEncoder = LabelEncoder()\n",
    "labelEncoder.fit(Y)\n",
    "encoded_y = labelEncoder.transform(Y)"
   ]
  },
  {
   "cell_type": "code",
   "execution_count": 10,
   "metadata": {
    "scrolled": true
   },
   "outputs": [
    {
     "data": {
      "text/plain": [
       "0       benign\n",
       "1       benign\n",
       "2       benign\n",
       "3       benign\n",
       "4       benign\n",
       "5       benign\n",
       "6       benign\n",
       "7       benign\n",
       "8       benign\n",
       "9       benign\n",
       "10      benign\n",
       "11      benign\n",
       "12      benign\n",
       "13      benign\n",
       "14      benign\n",
       "15      benign\n",
       "16      benign\n",
       "17      benign\n",
       "18      benign\n",
       "19      benign\n",
       "20      benign\n",
       "21      benign\n",
       "22      benign\n",
       "23      benign\n",
       "24      benign\n",
       "25      benign\n",
       "26      benign\n",
       "27      benign\n",
       "28      benign\n",
       "29      benign\n",
       "         ...  \n",
       "6766    botnet\n",
       "6767    botnet\n",
       "6768    botnet\n",
       "6769    botnet\n",
       "6770    botnet\n",
       "6771    botnet\n",
       "6772    botnet\n",
       "6773    botnet\n",
       "6774    botnet\n",
       "6775    botnet\n",
       "6776    botnet\n",
       "6777    botnet\n",
       "6778    botnet\n",
       "6779    botnet\n",
       "6780    botnet\n",
       "6781    botnet\n",
       "6782    botnet\n",
       "6783    botnet\n",
       "6784    botnet\n",
       "6785    botnet\n",
       "6786    botnet\n",
       "6787    botnet\n",
       "6788    botnet\n",
       "6789    botnet\n",
       "6790    botnet\n",
       "6791    botnet\n",
       "6792    botnet\n",
       "6793    botnet\n",
       "6794    botnet\n",
       "6795    botnet\n",
       "Name: label, Length: 6796, dtype: object"
      ]
     },
     "execution_count": 10,
     "metadata": {},
     "output_type": "execute_result"
    }
   ],
   "source": [
    "encoded_y\n",
    "Y"
   ]
  },
  {
   "cell_type": "markdown",
   "metadata": {},
   "source": [
    "## nomalization"
   ]
  },
  {
   "cell_type": "code",
   "execution_count": 11,
   "metadata": {},
   "outputs": [
    {
     "name": "stderr",
     "output_type": "stream",
     "text": [
      "/home/sdsra/anaconda3/envs/gep-gpu/lib/python3.6/site-packages/sklearn/preprocessing/data.py:323: DataConversionWarning: Data with input dtype int64, float64 were all converted to float64 by MinMaxScaler.\n",
      "  return self.partial_fit(X, y)\n"
     ]
    }
   ],
   "source": [
    "minMaxScaler = MinMaxScaler()\n",
    "scaled_X = minMaxScaler.fit_transform(X)"
   ]
  },
  {
   "cell_type": "markdown",
   "metadata": {},
   "source": [
    "## train"
   ]
  },
  {
   "cell_type": "code",
   "execution_count": null,
   "metadata": {},
   "outputs": [
    {
     "name": "stdout",
     "output_type": "stream",
     "text": [
      "Epoch 1/20\n",
      "6796/6796 [==============================] - 9s 1ms/step - loss: 0.0844 - acc: 0.9798\n",
      "Epoch 2/20\n",
      "6796/6796 [==============================] - 8s 1ms/step - loss: 0.0463 - acc: 0.9831\n",
      "Epoch 3/20\n",
      "6796/6796 [==============================] - 3s 393us/step - loss: 0.0426 - acc: 0.9831\n",
      "Epoch 4/20\n",
      "6796/6796 [==============================] - 3s 407us/step - loss: 0.0429 - acc: 0.9831\n",
      "Epoch 5/20\n",
      "6796/6796 [==============================] - 3s 454us/step - loss: 0.0430 - acc: 0.9831\n",
      "Epoch 6/20\n",
      "6796/6796 [==============================] - 3s 478us/step - loss: 0.0424 - acc: 0.9831\n",
      "Epoch 7/20\n",
      "2015/6796 [=======>......................] - ETA: 3s - loss: 0.0396 - acc: 0.9851"
     ]
    }
   ],
   "source": [
    "model = Sequential()\n",
    "model.add(Dense(28, activation='relu', input_dim=28))\n",
    "model.add(Dropout(0.5))\n",
    "model.add(Dense(28, activation='relu'))\n",
    "model.add(Dropout(0.5))\n",
    "model.add(Dense(1, activation='sigmoid'))\n",
    "model.compile(optimizer='adam',\n",
    "              loss='binary_crossentropy',\n",
    "              metrics=['accuracy'])\n",
    "\n",
    "model.fit(scaled_X, encoded_y, epochs=20, batch_size=5)"
   ]
  },
  {
   "cell_type": "code",
   "execution_count": null,
   "metadata": {},
   "outputs": [],
   "source": []
  }
 ],
 "metadata": {
  "kernelspec": {
   "display_name": "Python (gep-gpu)",
   "language": "python",
   "name": "gep-gpu"
  },
  "language_info": {
   "codemirror_mode": {
    "name": "ipython",
    "version": 3
   },
   "file_extension": ".py",
   "mimetype": "text/x-python",
   "name": "python",
   "nbconvert_exporter": "python",
   "pygments_lexer": "ipython3",
   "version": "3.6.8"
  }
 },
 "nbformat": 4,
 "nbformat_minor": 2
}
