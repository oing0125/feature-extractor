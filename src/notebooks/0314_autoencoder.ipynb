{
 "cells": [
  {
   "cell_type": "code",
   "execution_count": 2,
   "metadata": {},
   "outputs": [
    {
     "name": "stderr",
     "output_type": "stream",
     "text": [
      "Using TensorFlow backend.\n"
     ]
    }
   ],
   "source": [
    "from keras.layers import Input, Dense\n",
    "from keras.models import Model\n",
    "from sklearn.preprocessing import MinMaxScaler\n",
    "from sklearn.model_selection import train_test_split\n",
    "import os\n",
    "import statistics\n",
    "import pickle\n",
    "import pandas as pd\n",
    "import numpy as np\n",
    "import seaborn as sns\n",
    "import matplotlib.pyplot as plt\n",
    "from   plotly.graph_objs import *\n",
    "import plotly.offline as pyo\n",
    "pd.set_option(\"display.max_columns\", None)"
   ]
  },
  {
   "cell_type": "code",
   "execution_count": 3,
   "metadata": {},
   "outputs": [],
   "source": [
    "benign_datas = pd.read_pickle('/home/sdsra/Downloads/CTU-13-Dataset/benign/datas-final-by-origin-tool.pkl')\n",
    "malware_datas = pd.read_pickle('/home/sdsra/Downloads/CTU-13-Dataset/malware/1/datas-by-origin-tool.pkl')\n",
    "for i in [2,3,4,5,6,7,8,9,10,11,12,13,42,43,44,45,46,47,48,49,50,52,53,54]:\n",
    "    pkl_path = '/home/sdsra/Downloads/CTU-13-Dataset/malware/{}/datas-by-origin-tool.pkl'.format(str(i))\n",
    "    if os.path.exists(pkl_path):\n",
    "        tmp_data = pd.read_pickle(pkl_path)\n",
    "        malware_datas = pd.concat([malware_datas, tmp_data], ignore_index=True)"
   ]
  },
  {
   "cell_type": "code",
   "execution_count": 4,
   "metadata": {
    "scrolled": true
   },
   "outputs": [
    {
     "name": "stdout",
     "output_type": "stream",
     "text": [
      "<class 'pandas.core.frame.DataFrame'>\n",
      "RangeIndex: 6312 entries, 0 to 6311\n",
      "Data columns (total 32 columns):\n",
      "amount_diff_cert                6312 non-null int64\n",
      "avg_of_cert_length              6312 non-null float64\n",
      "avg_of_duration                 6312 non-null float64\n",
      "avg_of_public_key               6312 non-null float64\n",
      "avg_periodicity                 6312 non-null float64\n",
      "dst_ip                          6312 non-null object\n",
      "dst_port                        6312 non-null object\n",
      "get_SNI_equal_Dst_IP            6312 non-null int64\n",
      "inbound_pckts                   6312 non-null int64\n",
      "is_CNs_in_SNA_dns               6312 non-null int64\n",
      "is_SNIs_in_SNA_dns              6312 non-null int64\n",
      "is_valid_cert                   6312 non-null int64\n",
      "number_of_cert_path             6312 non-null float64\n",
      "number_of_domains               6312 non-null float64\n",
      "number_of_flows                 6312 non-null int64\n",
      "outbound_pckts                  6312 non-null int64\n",
      "percent_of_established_stats    6312 non-null float64\n",
      "percent_of_stdev_duration       6312 non-null float64\n",
      "ratio_of_SNI_ssl                6312 non-null float64\n",
      "ratio_of_cert                   6312 non-null float64\n",
      "ratio_of_self_signed            6312 non-null float64\n",
      "ratio_of_size                   6312 non-null float64\n",
      "ratio_of_ssl                    6312 non-null float64\n",
      "ratio_of_tls_version            6312 non-null float64\n",
      "ratio_of_x509_ssl               6312 non-null float64\n",
      "src_ip                          6312 non-null object\n",
      "src_port                        6312 non-null object\n",
      "stdev_duration                  6312 non-null float64\n",
      "stdev_of_cert_length            6312 non-null float64\n",
      "stdev_periodicity               6312 non-null float64\n",
      "total_size_of_flows_orig        6312 non-null int64\n",
      "total_size_of_flows_resp        6312 non-null int64\n",
      "dtypes: float64(18), int64(10), object(4)\n",
      "memory usage: 1.5+ MB\n"
     ]
    }
   ],
   "source": [
    "benign_datas.info()"
   ]
  },
  {
   "cell_type": "code",
   "execution_count": 5,
   "metadata": {},
   "outputs": [],
   "source": [
    "malware_datas = malware_datas[malware_datas['label']=='botnet']"
   ]
  },
  {
   "cell_type": "code",
   "execution_count": 6,
   "metadata": {},
   "outputs": [
    {
     "data": {
      "text/plain": [
       "botnet    599\n",
       "Name: label, dtype: int64"
      ]
     },
     "execution_count": 6,
     "metadata": {},
     "output_type": "execute_result"
    }
   ],
   "source": [
    "malware_datas['label'].value_counts()"
   ]
  },
  {
   "cell_type": "code",
   "execution_count": 7,
   "metadata": {},
   "outputs": [],
   "source": [
    "train_benign_datas, test_benign_datas = train_test_split(benign_datas, test_size=0.33, random_state=42)"
   ]
  },
  {
   "cell_type": "code",
   "execution_count": 8,
   "metadata": {},
   "outputs": [
    {
     "name": "stdout",
     "output_type": "stream",
     "text": [
      "<class 'pandas.core.frame.DataFrame'>\n",
      "Int64Index: 4229 entries, 3606 to 860\n",
      "Data columns (total 32 columns):\n",
      "amount_diff_cert                4229 non-null int64\n",
      "avg_of_cert_length              4229 non-null float64\n",
      "avg_of_duration                 4229 non-null float64\n",
      "avg_of_public_key               4229 non-null float64\n",
      "avg_periodicity                 4229 non-null float64\n",
      "dst_ip                          4229 non-null object\n",
      "dst_port                        4229 non-null object\n",
      "get_SNI_equal_Dst_IP            4229 non-null int64\n",
      "inbound_pckts                   4229 non-null int64\n",
      "is_CNs_in_SNA_dns               4229 non-null int64\n",
      "is_SNIs_in_SNA_dns              4229 non-null int64\n",
      "is_valid_cert                   4229 non-null int64\n",
      "number_of_cert_path             4229 non-null float64\n",
      "number_of_domains               4229 non-null float64\n",
      "number_of_flows                 4229 non-null int64\n",
      "outbound_pckts                  4229 non-null int64\n",
      "percent_of_established_stats    4229 non-null float64\n",
      "percent_of_stdev_duration       4229 non-null float64\n",
      "ratio_of_SNI_ssl                4229 non-null float64\n",
      "ratio_of_cert                   4229 non-null float64\n",
      "ratio_of_self_signed            4229 non-null float64\n",
      "ratio_of_size                   4229 non-null float64\n",
      "ratio_of_ssl                    4229 non-null float64\n",
      "ratio_of_tls_version            4229 non-null float64\n",
      "ratio_of_x509_ssl               4229 non-null float64\n",
      "src_ip                          4229 non-null object\n",
      "src_port                        4229 non-null object\n",
      "stdev_duration                  4229 non-null float64\n",
      "stdev_of_cert_length            4229 non-null float64\n",
      "stdev_periodicity               4229 non-null float64\n",
      "total_size_of_flows_orig        4229 non-null int64\n",
      "total_size_of_flows_resp        4229 non-null int64\n",
      "dtypes: float64(18), int64(10), object(4)\n",
      "memory usage: 1.1+ MB\n"
     ]
    }
   ],
   "source": [
    "train_benign_datas.info()"
   ]
  },
  {
   "cell_type": "code",
   "execution_count": 9,
   "metadata": {},
   "outputs": [
    {
     "name": "stdout",
     "output_type": "stream",
     "text": [
      "<class 'pandas.core.frame.DataFrame'>\n",
      "Int64Index: 2083 entries, 6080 to 4986\n",
      "Data columns (total 32 columns):\n",
      "amount_diff_cert                2083 non-null int64\n",
      "avg_of_cert_length              2083 non-null float64\n",
      "avg_of_duration                 2083 non-null float64\n",
      "avg_of_public_key               2083 non-null float64\n",
      "avg_periodicity                 2083 non-null float64\n",
      "dst_ip                          2083 non-null object\n",
      "dst_port                        2083 non-null object\n",
      "get_SNI_equal_Dst_IP            2083 non-null int64\n",
      "inbound_pckts                   2083 non-null int64\n",
      "is_CNs_in_SNA_dns               2083 non-null int64\n",
      "is_SNIs_in_SNA_dns              2083 non-null int64\n",
      "is_valid_cert                   2083 non-null int64\n",
      "number_of_cert_path             2083 non-null float64\n",
      "number_of_domains               2083 non-null float64\n",
      "number_of_flows                 2083 non-null int64\n",
      "outbound_pckts                  2083 non-null int64\n",
      "percent_of_established_stats    2083 non-null float64\n",
      "percent_of_stdev_duration       2083 non-null float64\n",
      "ratio_of_SNI_ssl                2083 non-null float64\n",
      "ratio_of_cert                   2083 non-null float64\n",
      "ratio_of_self_signed            2083 non-null float64\n",
      "ratio_of_size                   2083 non-null float64\n",
      "ratio_of_ssl                    2083 non-null float64\n",
      "ratio_of_tls_version            2083 non-null float64\n",
      "ratio_of_x509_ssl               2083 non-null float64\n",
      "src_ip                          2083 non-null object\n",
      "src_port                        2083 non-null object\n",
      "stdev_duration                  2083 non-null float64\n",
      "stdev_of_cert_length            2083 non-null float64\n",
      "stdev_periodicity               2083 non-null float64\n",
      "total_size_of_flows_orig        2083 non-null int64\n",
      "total_size_of_flows_resp        2083 non-null int64\n",
      "dtypes: float64(18), int64(10), object(4)\n",
      "memory usage: 537.0+ KB\n"
     ]
    }
   ],
   "source": [
    "test_benign_datas.info()"
   ]
  },
  {
   "cell_type": "code",
   "execution_count": 10,
   "metadata": {},
   "outputs": [
    {
     "name": "stderr",
     "output_type": "stream",
     "text": [
      "/home/sdsra/anaconda3/envs/gep-gpu/lib/python3.6/site-packages/sklearn/preprocessing/data.py:323: DataConversionWarning:\n",
      "\n",
      "Data with input dtype int64, float64 were all converted to float64 by MinMaxScaler.\n",
      "\n"
     ]
    }
   ],
   "source": [
    "numeric_columns = list(filter(lambda x: x not in ['src_ip','src_port','dst_ip','dst_port','proto'], benign_datas.columns))\n",
    "minMaxScaler = MinMaxScaler()\n",
    "npScaled = minMaxScaler.fit_transform(train_benign_datas[numeric_columns])"
   ]
  },
  {
   "cell_type": "code",
   "execution_count": 11,
   "metadata": {
    "scrolled": true
   },
   "outputs": [
    {
     "name": "stdout",
     "output_type": "stream",
     "text": [
      "<class 'pandas.core.frame.DataFrame'>\n",
      "Int64Index: 4229 entries, 3606 to 860\n",
      "Data columns (total 28 columns):\n",
      "amount_diff_cert                4229 non-null int64\n",
      "avg_of_cert_length              4229 non-null float64\n",
      "avg_of_duration                 4229 non-null float64\n",
      "avg_of_public_key               4229 non-null float64\n",
      "avg_periodicity                 4229 non-null float64\n",
      "get_SNI_equal_Dst_IP            4229 non-null int64\n",
      "inbound_pckts                   4229 non-null int64\n",
      "is_CNs_in_SNA_dns               4229 non-null int64\n",
      "is_SNIs_in_SNA_dns              4229 non-null int64\n",
      "is_valid_cert                   4229 non-null int64\n",
      "number_of_cert_path             4229 non-null float64\n",
      "number_of_domains               4229 non-null float64\n",
      "number_of_flows                 4229 non-null int64\n",
      "outbound_pckts                  4229 non-null int64\n",
      "percent_of_established_stats    4229 non-null float64\n",
      "percent_of_stdev_duration       4229 non-null float64\n",
      "ratio_of_SNI_ssl                4229 non-null float64\n",
      "ratio_of_cert                   4229 non-null float64\n",
      "ratio_of_self_signed            4229 non-null float64\n",
      "ratio_of_size                   4229 non-null float64\n",
      "ratio_of_ssl                    4229 non-null float64\n",
      "ratio_of_tls_version            4229 non-null float64\n",
      "ratio_of_x509_ssl               4229 non-null float64\n",
      "stdev_duration                  4229 non-null float64\n",
      "stdev_of_cert_length            4229 non-null float64\n",
      "stdev_periodicity               4229 non-null float64\n",
      "total_size_of_flows_orig        4229 non-null int64\n",
      "total_size_of_flows_resp        4229 non-null int64\n",
      "dtypes: float64(18), int64(10)\n",
      "memory usage: 958.1 KB\n"
     ]
    }
   ],
   "source": [
    "train_benign_datas[numeric_columns].info()"
   ]
  },
  {
   "cell_type": "code",
   "execution_count": 12,
   "metadata": {
    "scrolled": false
   },
   "outputs": [],
   "source": [
    "# 3. Model\n",
    "X = npScaled\n",
    "input_flow = Input(shape=(28, ))\n",
    "encoded = Dense(20, activation='relu')(input_flow)\n",
    "encoded = Dense(14, activation='relu')(input_flow)\n",
    "encoded = Dense(10, activation='relu')(encoded)\n",
    "decoded = Dense(14, activation='relu')(encoded)\n",
    "decoded = Dense(20, activation='relu')(decoded)\n",
    "decoded = Dense(28, activation='sigmoid')(decoded)\n",
    "autoencoder = Model(input_flow, decoded)\n",
    "autoencoder.compile(optimizer='adam', loss='mse')\n",
    "history = autoencoder.fit(X, X,\n",
    "                epochs=100,\n",
    "                batch_size=50,\n",
    "                shuffle=True,\n",
    "                validation_split=0.1,\n",
    "                verbose=0)"
   ]
  },
  {
   "cell_type": "code",
   "execution_count": 13,
   "metadata": {
    "scrolled": true
   },
   "outputs": [
    {
     "name": "stdout",
     "output_type": "stream",
     "text": [
      "_________________________________________________________________\n",
      "Layer (type)                 Output Shape              Param #   \n",
      "=================================================================\n",
      "input_1 (InputLayer)         (None, 28)                0         \n",
      "_________________________________________________________________\n",
      "dense_2 (Dense)              (None, 14)                406       \n",
      "_________________________________________________________________\n",
      "dense_3 (Dense)              (None, 10)                150       \n",
      "_________________________________________________________________\n",
      "dense_4 (Dense)              (None, 14)                154       \n",
      "_________________________________________________________________\n",
      "dense_5 (Dense)              (None, 20)                300       \n",
      "_________________________________________________________________\n",
      "dense_6 (Dense)              (None, 28)                588       \n",
      "=================================================================\n",
      "Total params: 1,598\n",
      "Trainable params: 1,598\n",
      "Non-trainable params: 0\n",
      "_________________________________________________________________\n"
     ]
    }
   ],
   "source": [
    "autoencoder.summary()"
   ]
  },
  {
   "cell_type": "code",
   "execution_count": 14,
   "metadata": {},
   "outputs": [],
   "source": [
    "df_history = pd.DataFrame(history.history)"
   ]
  },
  {
   "cell_type": "code",
   "execution_count": 15,
   "metadata": {},
   "outputs": [],
   "source": [
    "def train_validation_loss(df_history):\n",
    "    \n",
    "    trace = []\n",
    "    \n",
    "    for label, loss in zip(['Train', 'Validation'], ['loss', 'val_loss']):\n",
    "        trace0 = {'type' : 'scatter', \n",
    "                  'x'    : df_history.index.tolist(),\n",
    "                  'y'    : df_history[loss].tolist(),\n",
    "                  'name' : label,\n",
    "                  'mode' : 'lines'\n",
    "                  }\n",
    "        trace.append(trace0)\n",
    "    data = Data(trace)\n",
    "    layout = {'title' : 'Model train-vs-validation loss', 'titlefont':{'size' : 30},\n",
    "              'xaxis' : {'title':  '<b> Epochs', 'titlefont':{ 'size' : 25}},\n",
    "              'yaxis' : {'title':  '<b> Loss', 'titlefont':{ 'size' : 25}},\n",
    "              }\n",
    "    fig = Figure(data = data, layout = layout)\n",
    "    return pyo.iplot(fig)"
   ]
  },
  {
   "cell_type": "code",
   "execution_count": 16,
   "metadata": {
    "scrolled": true
   },
   "outputs": [
    {
     "name": "stderr",
     "output_type": "stream",
     "text": [
      "/home/sdsra/anaconda3/envs/gep-gpu/lib/python3.6/site-packages/plotly/graph_objs/_deprecations.py:39: DeprecationWarning:\n",
      "\n",
      "plotly.graph_objs.Data is deprecated.\n",
      "Please replace it with a list or tuple of instances of the following types\n",
      "  - plotly.graph_objs.Scatter\n",
      "  - plotly.graph_objs.Bar\n",
      "  - plotly.graph_objs.Area\n",
      "  - plotly.graph_objs.Histogram\n",
      "  - etc.\n",
      "\n",
      "\n"
     ]
    },
    {
     "data": {
      "application/vnd.plotly.v1+json": {
       "config": {
        "linkText": "Export to plot.ly",
        "plotlyServerURL": "https://plot.ly",
        "showLink": false
       },
       "data": [
        {
         "mode": "lines",
         "name": "Train",
         "type": "scatter",
         "uid": "e293cf10-0da8-43a7-b955-f449f5672bd9",
         "x": [
          0,
          1,
          2,
          3,
          4,
          5,
          6,
          7,
          8,
          9,
          10,
          11,
          12,
          13,
          14,
          15,
          16,
          17,
          18,
          19,
          20,
          21,
          22,
          23,
          24,
          25,
          26,
          27,
          28,
          29,
          30,
          31,
          32,
          33,
          34,
          35,
          36,
          37,
          38,
          39,
          40,
          41,
          42,
          43,
          44,
          45,
          46,
          47,
          48,
          49,
          50,
          51,
          52,
          53,
          54,
          55,
          56,
          57,
          58,
          59,
          60,
          61,
          62,
          63,
          64,
          65,
          66,
          67,
          68,
          69,
          70,
          71,
          72,
          73,
          74,
          75,
          76,
          77,
          78,
          79,
          80,
          81,
          82,
          83,
          84,
          85,
          86,
          87,
          88,
          89,
          90,
          91,
          92,
          93,
          94,
          95,
          96,
          97,
          98,
          99
         ],
         "y": [
          0.12876411153789544,
          0.012524501972842062,
          0.00816250847617318,
          0.00795878193018683,
          0.007825588483482802,
          0.007663652002791856,
          0.007403117425923779,
          0.006907859131746695,
          0.006041441807578182,
          0.005338397235289036,
          0.004911624215111622,
          0.0043618061436125856,
          0.003833952947743374,
          0.0036703784877524424,
          0.0035832134317469655,
          0.0034507173760752506,
          0.0031965597995414477,
          0.002978017717818629,
          0.0028556852799796716,
          0.0027780557095713784,
          0.002710203403631236,
          0.002645347450729665,
          0.002591233656101058,
          0.002542224957796594,
          0.002499458661263283,
          0.0024355842420636545,
          0.0023792027080425707,
          0.0023217007264674013,
          0.002250425990408358,
          0.0021711232179995573,
          0.002084791011582469,
          0.0020013815111674456,
          0.0019123185077546084,
          0.0018175238890182355,
          0.0017494421370126332,
          0.0016936053689794357,
          0.001638102993833785,
          0.0016011268560418832,
          0.0015599159580890062,
          0.0015302326644492333,
          0.001497778114633641,
          0.0014677514437018613,
          0.0014327138895902996,
          0.0013981901946209891,
          0.0013707749199723415,
          0.0013407137618043875,
          0.0013181280560487577,
          0.0012857063786884994,
          0.0012625597323115065,
          0.0012425623124935658,
          0.0012254215618110978,
          0.001212939859593152,
          0.0011936655062281625,
          0.0011741555715175528,
          0.001165760960815307,
          0.0011522708443804392,
          0.0011351638554259684,
          0.0011287729653000785,
          0.0011169979264449496,
          0.0011115360995463408,
          0.001101968785431246,
          0.0010930626165175383,
          0.0010812897979497421,
          0.0010723660969680945,
          0.0010711064098222515,
          0.001058675615403618,
          0.0010470417148478405,
          0.001050700478767964,
          0.0010320960353307242,
          0.001025989307985625,
          0.0010213615564773563,
          0.0010092261164017019,
          0.0010022930028585053,
          0.0009994351408483253,
          0.0009899427695707597,
          0.000981578263990029,
          0.000978695024127905,
          0.0009753245064333919,
          0.000959441009997006,
          0.0009553365489237718,
          0.0009481608789494673,
          0.0009428659024297471,
          0.0009342777323978843,
          0.0009219555224742715,
          0.0009186097100625207,
          0.0009292404232229802,
          0.0009115603575180762,
          0.0009014618714273718,
          0.0009131900548971764,
          0.0008941080238572476,
          0.0008961513260406595,
          0.0008900869846776744,
          0.0008869116024083115,
          0.0008829110380334567,
          0.0008751571397930853,
          0.0008717763919033491,
          0.0008656307576691337,
          0.0008677456188765641,
          0.0008623050165924729,
          0.0008567346783637015
         ]
        },
        {
         "mode": "lines",
         "name": "Validation",
         "type": "scatter",
         "uid": "4586e86c-b357-48b7-b2a7-0608412ed542",
         "x": [
          0,
          1,
          2,
          3,
          4,
          5,
          6,
          7,
          8,
          9,
          10,
          11,
          12,
          13,
          14,
          15,
          16,
          17,
          18,
          19,
          20,
          21,
          22,
          23,
          24,
          25,
          26,
          27,
          28,
          29,
          30,
          31,
          32,
          33,
          34,
          35,
          36,
          37,
          38,
          39,
          40,
          41,
          42,
          43,
          44,
          45,
          46,
          47,
          48,
          49,
          50,
          51,
          52,
          53,
          54,
          55,
          56,
          57,
          58,
          59,
          60,
          61,
          62,
          63,
          64,
          65,
          66,
          67,
          68,
          69,
          70,
          71,
          72,
          73,
          74,
          75,
          76,
          77,
          78,
          79,
          80,
          81,
          82,
          83,
          84,
          85,
          86,
          87,
          88,
          89,
          90,
          91,
          92,
          93,
          94,
          95,
          96,
          97,
          98,
          99
         ],
         "y": [
          0.032255499110717865,
          0.009186022936963162,
          0.00882091476685471,
          0.008697598465843826,
          0.008535420286510994,
          0.008323433214521154,
          0.007933972520097633,
          0.007142734053339941,
          0.006190036092147267,
          0.005635158998790433,
          0.005169821513407197,
          0.004585299042029302,
          0.004242430575385725,
          0.004121996793702209,
          0.00398541007182136,
          0.003657145901246274,
          0.00324338519324859,
          0.002980424481472683,
          0.002842831304274834,
          0.002751745867056345,
          0.00266657734782948,
          0.0026092270056741317,
          0.0025418895058967965,
          0.0025046350077745764,
          0.002454146148359522,
          0.002395245885634993,
          0.0023337106807179413,
          0.0022690831441388205,
          0.0021839398873120053,
          0.002120325867478553,
          0.0020275651587362688,
          0.0019203593957746493,
          0.0018227823314215133,
          0.0017604879692557926,
          0.0016898949661932833,
          0.0016438687064995368,
          0.0016038148453674911,
          0.0015596651398394055,
          0.0015347410900513896,
          0.0015053411576364092,
          0.0014894645042986066,
          0.0014493664920365275,
          0.001427166700862947,
          0.0013948174514950872,
          0.0013656981256911552,
          0.0013428881396176228,
          0.0013279574265456968,
          0.001286106706205007,
          0.0013000362761314281,
          0.0012807558135439951,
          0.0012420356044123041,
          0.0012295373102284564,
          0.00121197301919746,
          0.0012238923012747938,
          0.0011964778096060628,
          0.0011930892736063147,
          0.0011780574902931743,
          0.001163118432471903,
          0.0011549423521397806,
          0.0011485745478366407,
          0.0011492874754051156,
          0.0011321030550000058,
          0.001132855967240932,
          0.0011177811373672482,
          0.0011234470863549157,
          0.0011050144171102266,
          0.0011153336495753317,
          0.0010926298327616308,
          0.0010845408411355288,
          0.0010773295095745236,
          0.0010680091066724107,
          0.0010576742138695984,
          0.0010432042436064365,
          0.0010459314757654218,
          0.0010282464781456824,
          0.001032731913434161,
          0.0010042857365235775,
          0.0010181548544227741,
          0.00098763089657301,
          0.0009691748128494965,
          0.0009717919220311246,
          0.0009443401469107075,
          0.0009455773296895884,
          0.000953710293694538,
          0.0009579748654491477,
          0.0009312407884484787,
          0.0009420727748130987,
          0.0009268973067834374,
          0.0009154198013122764,
          0.0009169742583636256,
          0.0009191041625430697,
          0.0009252410932459448,
          0.0009042553096705823,
          0.0009048977507890398,
          0.0008924012446674754,
          0.0009042929551656628,
          0.0009010264089377266,
          0.0009005685068829861,
          0.0009026877439237391,
          0.0008746520777114053
         ]
        }
       ],
       "layout": {
        "title": {
         "font": {
          "size": 30
         },
         "text": "Model train-vs-validation loss"
        },
        "xaxis": {
         "title": {
          "font": {
           "size": 25
          },
          "text": "<b> Epochs"
         }
        },
        "yaxis": {
         "title": {
          "font": {
           "size": 25
          },
          "text": "<b> Loss"
         }
        }
       }
      }
     },
     "metadata": {},
     "output_type": "display_data"
    }
   ],
   "source": [
    "train_validation_loss(df_history)"
   ]
  },
  {
   "cell_type": "code",
   "execution_count": 17,
   "metadata": {},
   "outputs": [
    {
     "name": "stderr",
     "output_type": "stream",
     "text": [
      "/home/sdsra/anaconda3/envs/gep-gpu/lib/python3.6/site-packages/sklearn/preprocessing/data.py:323: DataConversionWarning:\n",
      "\n",
      "Data with input dtype int64, float64 were all converted to float64 by MinMaxScaler.\n",
      "\n"
     ]
    }
   ],
   "source": [
    "scaled_test_benign = minMaxScaler.fit_transform(test_benign_datas[numeric_columns])\n",
    "test_benign_predict = autoencoder.predict(scaled_test_benign)"
   ]
  },
  {
   "cell_type": "code",
   "execution_count": 18,
   "metadata": {},
   "outputs": [],
   "source": [
    "compare_benign = (scaled_test_benign - test_benign_predict) ** 2"
   ]
  },
  {
   "cell_type": "code",
   "execution_count": 19,
   "metadata": {},
   "outputs": [
    {
     "data": {
      "text/plain": [
       "array([[6.22452019e-03, 2.32417837e-03, 7.26387938e-04, ...,\n",
       "        1.26597081e-02, 3.52847426e-05, 1.12819440e-06],\n",
       "       [3.25405307e-02, 1.50225569e-04, 2.17526111e-03, ...,\n",
       "        8.43585576e-03, 2.67300531e-03, 2.14282834e-03],\n",
       "       [1.21429339e-02, 4.61865656e-04, 6.97005714e-05, ...,\n",
       "        1.19920511e-03, 5.89571233e-05, 1.86438163e-05],\n",
       "       ...,\n",
       "       [1.01213562e-02, 1.83199800e-03, 8.98050106e-04, ...,\n",
       "        9.73649623e-03, 2.51518049e-05, 1.96205016e-06],\n",
       "       [1.49551540e-02, 2.74724117e-03, 5.65713736e-05, ...,\n",
       "        8.12607927e-03, 1.09881325e-05, 1.52198679e-07],\n",
       "       [2.78406731e-02, 2.71485963e-05, 2.26056471e-03, ...,\n",
       "        9.40133962e-07, 3.83924003e-05, 1.97089571e-05]])"
      ]
     },
     "execution_count": 19,
     "metadata": {},
     "output_type": "execute_result"
    }
   ],
   "source": [
    "compare_benign"
   ]
  },
  {
   "cell_type": "code",
   "execution_count": 20,
   "metadata": {},
   "outputs": [],
   "source": [
    "compare_benign_datas = test_benign_datas.copy()"
   ]
  },
  {
   "cell_type": "code",
   "execution_count": 21,
   "metadata": {},
   "outputs": [],
   "source": [
    "compare_benign_datas['SUM'] = np.sum(compare_benign_datas, axis=1)"
   ]
  },
  {
   "cell_type": "code",
   "execution_count": 22,
   "metadata": {},
   "outputs": [],
   "source": [
    "compare_benign_datas['MEAN'] = np.mean(compare_benign_datas, axis=1)"
   ]
  },
  {
   "cell_type": "code",
   "execution_count": 52,
   "metadata": {},
   "outputs": [
    {
     "data": {
      "image/png": "[encoded data removed]",
      "text/plain": [
       "<Figure size 432x288 with 1 Axes>"
      ]
     },
     "metadata": {},
     "output_type": "display_data"
    }
   ],
   "source": [
    "sns.set(style=\"whitegrid\")\n",
    "ax = sns.boxplot(x=compare_benign_datas['MEAN'])"
   ]
  },
  {
   "cell_type": "code",
   "execution_count": 24,
   "metadata": {},
   "outputs": [
    {
     "name": "stderr",
     "output_type": "stream",
     "text": [
      "/home/sdsra/anaconda3/envs/gep-gpu/lib/python3.6/site-packages/sklearn/preprocessing/data.py:323: DataConversionWarning:\n",
      "\n",
      "Data with input dtype int64, float64 were all converted to float64 by MinMaxScaler.\n",
      "\n"
     ]
    }
   ],
   "source": [
    "scaled_malware = minMaxScaler.fit_transform(malware_datas[numeric_columns])\n",
    "test_malware = autoencoder.predict(scaled_malware)"
   ]
  },
  {
   "cell_type": "code",
   "execution_count": 25,
   "metadata": {},
   "outputs": [],
   "source": [
    "compare_malware = (scaled_malware - test_malware) ** 2"
   ]
  },
  {
   "cell_type": "code",
   "execution_count": 26,
   "metadata": {},
   "outputs": [],
   "source": [
    "compare_malware_datas = malware_datas.copy()"
   ]
  },
  {
   "cell_type": "code",
   "execution_count": 27,
   "metadata": {},
   "outputs": [],
   "source": [
    "compare_malware_datas['SUM'] = np.sum(compare_malware, axis=1)"
   ]
  },
  {
   "cell_type": "code",
   "execution_count": 28,
   "metadata": {},
   "outputs": [],
   "source": [
    "compare_malware_datas['MEAN'] = np.mean(compare_malware, axis=1)"
   ]
  },
  {
   "cell_type": "code",
   "execution_count": 43,
   "metadata": {},
   "outputs": [
    {
     "data": {
      "image/png": "[encoded data removed]",
      "text/plain": [
       "<Figure size 432x288 with 1 Axes>"
      ]
     },
     "metadata": {},
     "output_type": "display_data"
    }
   ],
   "source": [
    "sns.set(style=\"whitegrid\")\n",
    "ax = sns.boxplot(x=compare_malware_datas['MEAN'])"
   ]
  },
  {
   "cell_type": "code",
   "execution_count": 30,
   "metadata": {},
   "outputs": [
    {
     "data": {
      "text/plain": [
       "count    599.000000\n",
       "mean       3.967045\n",
       "std        0.595091\n",
       "min        0.974225\n",
       "25%        3.344501\n",
       "50%        4.176173\n",
       "75%        4.397215\n",
       "max        7.472809\n",
       "Name: SUM, dtype: float64"
      ]
     },
     "execution_count": 30,
     "metadata": {},
     "output_type": "execute_result"
    }
   ],
   "source": [
    "compare_malware_datas['SUM'].describe()"
   ]
  },
  {
   "cell_type": "code",
   "execution_count": 51,
   "metadata": {},
   "outputs": [
    {
     "data": {
      "text/plain": [
       "40651.12586433384"
      ]
     },
     "execution_count": 51,
     "metadata": {},
     "output_type": "execute_result"
    }
   ],
   "source": [
    "np.mean(compare_benign_datas['MEAN'])"
   ]
  },
  {
   "cell_type": "code",
   "execution_count": 48,
   "metadata": {},
   "outputs": [],
   "source": [
    "threshold = 0.2"
   ]
  },
  {
   "cell_type": "code",
   "execution_count": 49,
   "metadata": {},
   "outputs": [
    {
     "data": {
      "text/plain": [
       "2083"
      ]
     },
     "execution_count": 49,
     "metadata": {},
     "output_type": "execute_result"
    }
   ],
   "source": [
    "len(compare_benign_datas[compare_benign_datas['MEAN'] > threshold])"
   ]
  },
  {
   "cell_type": "code",
   "execution_count": 33,
   "metadata": {},
   "outputs": [
    {
     "name": "stdout",
     "output_type": "stream",
     "text": [
      "<class 'pandas.core.frame.DataFrame'>\n",
      "Int64Index: 0 entries\n",
      "Data columns (total 34 columns):\n",
      "amount_diff_cert                0 non-null int64\n",
      "avg_of_cert_length              0 non-null float64\n",
      "avg_of_duration                 0 non-null float64\n",
      "avg_of_public_key               0 non-null float64\n",
      "avg_periodicity                 0 non-null float64\n",
      "dst_ip                          0 non-null object\n",
      "dst_port                        0 non-null object\n",
      "get_SNI_equal_Dst_IP            0 non-null int64\n",
      "inbound_pckts                   0 non-null int64\n",
      "is_CNs_in_SNA_dns               0 non-null int64\n",
      "is_SNIs_in_SNA_dns              0 non-null int64\n",
      "is_valid_cert                   0 non-null int64\n",
      "number_of_cert_path             0 non-null float64\n",
      "number_of_domains               0 non-null float64\n",
      "number_of_flows                 0 non-null int64\n",
      "outbound_pckts                  0 non-null int64\n",
      "percent_of_established_stats    0 non-null float64\n",
      "percent_of_stdev_duration       0 non-null float64\n",
      "ratio_of_SNI_ssl                0 non-null float64\n",
      "ratio_of_cert                   0 non-null float64\n",
      "ratio_of_self_signed            0 non-null float64\n",
      "ratio_of_size                   0 non-null float64\n",
      "ratio_of_ssl                    0 non-null float64\n",
      "ratio_of_tls_version            0 non-null float64\n",
      "ratio_of_x509_ssl               0 non-null float64\n",
      "src_ip                          0 non-null object\n",
      "src_port                        0 non-null object\n",
      "stdev_duration                  0 non-null float64\n",
      "stdev_of_cert_length            0 non-null float64\n",
      "stdev_periodicity               0 non-null float64\n",
      "total_size_of_flows_orig        0 non-null int64\n",
      "total_size_of_flows_resp        0 non-null int64\n",
      "SUM                             0 non-null float64\n",
      "MEAN                            0 non-null float64\n",
      "dtypes: float64(20), int64(10), object(4)\n",
      "memory usage: 0.0+ bytes\n"
     ]
    }
   ],
   "source": [
    "compare_benign_datas[compare_benign_datas['SUM'] <= 3].info()"
   ]
  },
  {
   "cell_type": "code",
   "execution_count": null,
   "metadata": {},
   "outputs": [],
   "source": []
  }
 ],
 "metadata": {
  "kernelspec": {
   "display_name": "Python (gep-gpu)",
   "language": "python",
   "name": "gep-gpu"
  },
  "language_info": {
   "codemirror_mode": {
    "name": "ipython",
    "version": 3
   },
   "file_extension": ".py",
   "mimetype": "text/x-python",
   "name": "python",
   "nbconvert_exporter": "python",
   "pygments_lexer": "ipython3",
   "version": "3.6.8"
  }
 },
 "nbformat": 4,
 "nbformat_minor": 2
}
